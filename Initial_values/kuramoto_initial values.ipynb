{
 "cells": [
  {
   "cell_type": "markdown",
   "metadata": {},
   "source": [
    "# Kuramoto initial parameter values\n",
    "### Adj matrix"
   ]
  },
  {
   "cell_type": "code",
   "execution_count": 1,
   "metadata": {},
   "outputs": [],
   "source": [
    "import networkx as nx\n",
    "import numpy as np\n",
    "\n",
    "# Define the number of nodes in the network\n",
    "n = 1000\n",
    "\n",
    "# Define the probability of an edge between any two nodes\n",
    "p = 1\n",
    "\n",
    "# Create the Erdős-Rényi network\n",
    "G = nx.erdos_renyi_graph(n, p, seed=42)\n",
    "\n",
    "# Create the adjacency matrix\n",
    "A = nx.to_numpy_array(G)\n",
    "\n",
    "# Make the matrix symmetric (undirected network)\n",
    "A = (A + A.T) / 2\n",
    "\n",
    "# Save the matrix to a text file\n",
    "np.savetxt('Layer1.txt', A, fmt='%.0f', delimiter='\\t')"
   ]
  },
  {
   "cell_type": "markdown",
   "metadata": {},
   "source": [
    "### Initial phase"
   ]
  },
  {
   "cell_type": "code",
   "execution_count": 19,
   "metadata": {},
   "outputs": [
    {
     "name": "stdout",
     "output_type": "stream",
     "text": [
      "Done :)\n"
     ]
    }
   ],
   "source": [
    "import numpy as np\n",
    "\n",
    "def create_random(path,number,beginning,end):\n",
    "    import random\n",
    "    with open(path, \"w\") as file:\n",
    "        for _ in range(number):\n",
    "            random_value = random.uniform(beginning, end)\n",
    "            random_value=np.round(random_value,4)   #to save with 4 decimal digits\n",
    "            file.write(str(random_value) + \"\\n\")\n",
    "    pass\n",
    "\n",
    "def main():\n",
    "    number_of_node=1000\n",
    "    beginning_of_range=0\n",
    "    end_of_range=2*np.pi\n",
    "    address_name_for_save='./initial/origin1.txt'\n",
    "    create_random(address_name_for_save,number_of_node,beginning_of_range,end_of_range)\n",
    "    print(\"Done :)\")\n",
    "    pass\n",
    "\n",
    "\n",
    "if __name__==\"__main__\":\n",
    "    main()"
   ]
  },
  {
   "cell_type": "markdown",
   "metadata": {},
   "source": [
    "### Natural frequancy"
   ]
  },
  {
   "cell_type": "code",
   "execution_count": 20,
   "metadata": {},
   "outputs": [
    {
     "name": "stdout",
     "output_type": "stream",
     "text": [
      "Done :)\n"
     ]
    }
   ],
   "source": [
    "import numpy as np\n",
    "\n",
    "def create_random_gaussian(path, number, mean, std_dev):\n",
    "    \"\"\"\n",
    "    Create a file containing random numbers from a Gaussian distribution.\n",
    "\n",
    "    Parameters:\n",
    "    path (str): File path to save the numbers.\n",
    "    number (int): Number of random numbers to generate.\n",
    "    mean (float): Mean of the Gaussian distribution.\n",
    "    std_dev (float): Standard deviation of the Gaussian distribution.\n",
    "    \"\"\"\n",
    "    with open(path, \"w\") as file:\n",
    "        for _ in range(number):\n",
    "            random_value = np.random.normal(mean, std_dev)\n",
    "            random_value = np.round(random_value, 4)  # Save with 4 decimal digits\n",
    "            file.write(str(random_value) + \"\\n\")\n",
    "    pass\n",
    "\n",
    "def main():\n",
    "    number_of_node = 1000\n",
    "    mean_of_distribution = 0  # Mean of the Gaussian distribution\n",
    "    std_dev_of_distribution = 1  # Standard deviation of the Gaussian distribution\n",
    "\n",
    "    address_name_for_save = (\n",
    "        './initial/Layer1.txt'\n",
    "    )\n",
    "\n",
    "    create_random_gaussian(address_name_for_save, number_of_node, mean_of_distribution, std_dev_of_distribution)\n",
    "    print(\"Done :)\")\n",
    "    pass\n",
    "\n",
    "if __name__ == \"__main__\":\n",
    "    main()\n"
   ]
  },
  {
   "cell_type": "code",
   "execution_count": null,
   "metadata": {},
   "outputs": [],
   "source": []
  },
  {
   "cell_type": "code",
   "execution_count": null,
   "metadata": {},
   "outputs": [],
   "source": []
  }
 ],
 "metadata": {
  "kernelspec": {
   "display_name": "Python 3",
   "language": "python",
   "name": "python3"
  },
  "language_info": {
   "codemirror_mode": {
    "name": "ipython",
    "version": 3
   },
   "file_extension": ".py",
   "mimetype": "text/x-python",
   "name": "python",
   "nbconvert_exporter": "python",
   "pygments_lexer": "ipython3",
   "version": "3.11.9"
  }
 },
 "nbformat": 4,
 "nbformat_minor": 2
}
