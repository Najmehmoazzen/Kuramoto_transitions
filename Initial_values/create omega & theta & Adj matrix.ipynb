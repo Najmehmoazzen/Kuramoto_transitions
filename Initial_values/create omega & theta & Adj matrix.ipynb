{
 "cells": [
  {
   "cell_type": "markdown",
   "metadata": {},
   "source": [
    "## Create initial phases and natural frequancy for Kuramoto model"
   ]
  },
  {
   "cell_type": "code",
   "execution_count": 5,
   "metadata": {},
   "outputs": [
    {
     "name": "stdout",
     "output_type": "stream",
     "text": [
      "Done :)\n"
     ]
    }
   ],
   "source": [
    "import numpy as np\n",
    "\n",
    "def create_random(path,number,beginning,end):\n",
    "    import random\n",
    "    with open(path, \"w\") as file:\n",
    "        for _ in range(number):\n",
    "            random_value = random.uniform(beginning, end)\n",
    "            random_value=np.round(random_value,4)   #to save with 4 decimal digits\n",
    "            file.write(str(random_value) + \"\\n\")\n",
    "    pass\n",
    "\n",
    "def main():\n",
    "    number_of_node=60\n",
    "    beginning_of_range=-0.5\n",
    "    end_of_range=0.5\n",
    "    address_name_for_save='./'+str(number_of_node)+','+str(beginning_of_range)+','+str(end_of_range)+'.txt'\n",
    "    create_random(address_name_for_save,number_of_node,beginning_of_range,end_of_range)\n",
    "    print(\"Done :)\")\n",
    "    pass\n",
    "\n",
    "\n",
    "if __name__==\"__main__\":\n",
    "    main()"
   ]
  },
  {
   "cell_type": "markdown",
   "metadata": {},
   "source": [
    "## Create Adjacency matrix for ER network"
   ]
  },
  {
   "cell_type": "code",
   "execution_count": 18,
   "metadata": {},
   "outputs": [],
   "source": [
    "import networkx as nx\n",
    "import numpy as np\n",
    "\n",
    "# Define the number of nodes in the network\n",
    "n = 60\n",
    "\n",
    "# Define the probability of an edge between any two nodes\n",
    "p = 0.2\n",
    "\n",
    "# Create the Erdős-Rényi network\n",
    "G = nx.erdos_renyi_graph(n, p, seed=42)\n",
    "\n",
    "# Create the adjacency matrix\n",
    "A = nx.to_numpy_array(G)\n",
    "\n",
    "# Make the matrix symmetric (undirected network)\n",
    "A = (A + A.T) / 2\n",
    "\n",
    "# Save the matrix to a text file\n",
    "np.savetxt('Layer1.txt', A, fmt='%.0f', delimiter='\\t')"
   ]
  },
  {
   "cell_type": "code",
   "execution_count": null,
   "metadata": {},
   "outputs": [],
   "source": []
  }
 ],
 "metadata": {
  "kernelspec": {
   "display_name": "Python 3",
   "language": "python",
   "name": "python3"
  },
  "language_info": {
   "codemirror_mode": {
    "name": "ipython",
    "version": 3
   },
   "file_extension": ".py",
   "mimetype": "text/x-python",
   "name": "python",
   "nbconvert_exporter": "python",
   "pygments_lexer": "ipython3",
   "version": "3.11.9"
  }
 },
 "nbformat": 4,
 "nbformat_minor": 2
}
